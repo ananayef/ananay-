{
  "nbformat": 4,
  "nbformat_minor": 0,
  "metadata": {
    "colab": {
      "provenance": [],
      "authorship_tag": "ABX9TyOzu+m9sfcqRleOU1SZ4u7S",
      "include_colab_link": true
    },
    "kernelspec": {
      "name": "python3",
      "display_name": "Python 3"
    },
    "language_info": {
      "name": "python"
    }
  },
  "cells": [
    {
      "cell_type": "markdown",
      "metadata": {
        "id": "view-in-github",
        "colab_type": "text"
      },
      "source": [
        "<a href=\"https://colab.research.google.com/github/ananayef/ananay-/blob/master/Ananaysood_31jan_202301007.ipynb\" target=\"_parent\"><img src=\"https://colab.research.google.com/assets/colab-badge.svg\" alt=\"Open In Colab\"/></a>"
      ]
    },
    {
      "cell_type": "code",
      "execution_count": 5,
      "metadata": {
        "id": "xmaRDYPTKUH7",
        "colab": {
          "base_uri": "https://localhost:8080/"
        },
        "outputId": "e4214a5c-5c0f-43ba-f91f-7cec8bbb5701"
      },
      "outputs": [
        {
          "output_type": "stream",
          "name": "stdout",
          "text": [
            "The final array is: [5 4 6 3 2 1]\n",
            "initial array [1 2 3 6 4 5]\n",
            "type of ini_array <class 'numpy.ndarray'>\n",
            "final array [5 4 6 3 2 1]\n",
            "Equal\n",
            "Original array:\n",
            "[1 2 3 4 5 1 2 1 1 1]\n",
            "The frequent value in the above array:\n",
            "1\n",
            "Original array:\n",
            "[1 1 1 2 3 4 2 4 3 3]\n",
            "The frequent value in above array\n",
            "1 3 45\n"
          ]
        }
      ],
      "source": [
        "#ques-1)Reverse the NumPy array: arr = np.array([1, 2, 3, 6, 4, 5]) )\n",
        "import numpy as np\n",
        "my_array = np.array([1, 2, 3, 6, 4, 5])\n",
        "res = np.flip(my_array)\n",
        "print(\"The final array is:\", str(res))\n",
        "import numpy as np\n",
        "my_array = np.array([1, 2, 3, 6, 4, 5])\n",
        "print(\"initial array\", str(my_array))\n",
        "print(\"type of ini_array\", type(my_array))\n",
        "res = my_array[::-1]\n",
        "print(\"final array\", str(res))\n",
        "\n",
        "#ques-2)Compare the following numpy arrays: arr1 = np.array([[1, 2], [3, 4]])\n",
        "#arr2 = np.array([[1, 2], [3, 4]])\n",
        "import numpy as np\n",
        "arr1 = np.array([[1, 2], [3, 4]])\n",
        "arr2 = np.array([[1, 2], [3, 4]])\n",
        "\n",
        "if np.array_equal(arr1, arr2):\n",
        "\tprint(\"Equal\")\n",
        "else:\n",
        "\tprint(\"Not Equal\")\n",
        "#ques-3)Find the most frequent value and their indice(s) in the following arrays:\n",
        "#i. x = np.array([1,2,3,4,5,1,2,1,1,1])\n",
        "#ii. y = np.array([1, 1, 1, 2, 3, 4, 2, 4, 3, 3, ])\n",
        "import numpy as np\n",
        "x = np.array([1,2,3,4,5,1,2,1,1,1])\n",
        "print(\"Original array:\")\n",
        "print(x)\n",
        "print(\"The frequent value in the above array:\")\n",
        "print(np.bincount(x).argmax())\n",
        "import numpy as np\n",
        "x = np.array([1, 1, 1, 2, 3, 4, 2, 4, 3, 3, ])\n",
        "print(\"Original array:\")\n",
        "print(x)\n",
        "print(\"The frequent value in above array\")\n",
        "y = np.bincount(x)\n",
        "maximum = max(y)\n",
        "\n",
        "for i in range(len(y)):\n",
        "\tif y[i] == maximum:\n",
        "\t\tprint(i, end=\" \")\n",
        "#ques-4)For the array gfg = np.matrix('[4, 1, 9; 12, 3, 1; 4, 5, 6]'),\n",
        "#find i. Sum of all elements\n",
        "#ii. Sum of all elements row-wise\n",
        "#iii. Sum of all elements column-wise\n",
        "def sumOfMatrix(N, M, mat):\n",
        "\tSum = 0\n",
        "for i in range(N):\n",
        "\t\tfor j in range(M):\n",
        "\t\t\tSum += mat[i][j]\n",
        "\treturn Sum\n",
        "\n",
        "\n",
        "mat = [[4,1,9],\n",
        "\t[12,3,1],\n",
        "  [4,5,6]]\n",
        "N = len(mat)\n",
        "M = len(mat[0])\n",
        "printsumOfMatrix(N, M, mat)\n",
        "\n",
        "\n",
        "\n"
      ]
    }
  ]
}