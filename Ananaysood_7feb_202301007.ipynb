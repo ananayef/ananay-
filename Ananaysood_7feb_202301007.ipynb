{
  "nbformat": 4,
  "nbformat_minor": 0,
  "metadata": {
    "colab": {
      "provenance": [],
      "authorship_tag": "ABX9TyOzCl24JcgREKsSkymxWZor",
      "include_colab_link": true
    },
    "kernelspec": {
      "name": "python3",
      "display_name": "Python 3"
    },
    "language_info": {
      "name": "python"
    }
  },
  "cells": [
    {
      "cell_type": "markdown",
      "metadata": {
        "id": "view-in-github",
        "colab_type": "text"
      },
      "source": [
        "<a href=\"https://colab.research.google.com/github/ananayef/ananay-/blob/master/Ananaysood_7feb_202301007.ipynb\" target=\"_parent\"><img src=\"https://colab.research.google.com/assets/colab-badge.svg\" alt=\"Open In Colab\"/></a>"
      ]
    },
    {
      "cell_type": "code",
      "execution_count": 2,
      "metadata": {
        "id": "T67T5Bbds8Sw",
        "colab": {
          "base_uri": "https://localhost:8080/"
        },
        "outputId": "96b0c5fa-96c9-4d63-a8c0-b730f5377935"
      },
      "outputs": [
        {
          "output_type": "stream",
          "name": "stdout",
          "text": [
            "   Tid Refund Marital Status Taxable Income Cheat\n",
            "0    1    yes         Single           125K    No\n",
            "1    2     no        Married           100K    No\n",
            "2    3     no         Single            70K    No\n",
            "3    4    yes        Married           120K    No\n",
            "4    5     no       Divorced            95K   Yes\n",
            "5    6     no        Married            60K    No\n",
            "6    7    yes       Divorced           220K    No\n",
            "7    8     no         Single            85K   Yes\n",
            "8    9     no        Married            75K    No\n",
            "9   10     no         Single            90K   Yes\n",
            "Tid                    1\n",
            "Refund               yes\n",
            "Marital Status    Single\n",
            "Taxable Income      125K\n",
            "Cheat                 No\n",
            "Name: 0, dtype: object\n",
            "Tid                      5\n",
            "Refund                  no\n",
            "Marital Status    Divorced\n",
            "Taxable Income         95K\n",
            "Cheat                  Yes\n",
            "Name: 4, dtype: object\n",
            "Tid                    8\n",
            "Refund                no\n",
            "Marital Status    Single\n",
            "Taxable Income       85K\n",
            "Cheat                Yes\n",
            "Name: 7, dtype: object\n",
            "Tid                     9\n",
            "Refund                 no\n",
            "Marital Status    Married\n",
            "Taxable Income        75K\n",
            "Cheat                  No\n",
            "Name: 8, dtype: object\n"
          ]
        }
      ],
      "source": [
        "#Question 1\n",
        "import pandas as pd\n",
        "\n",
        "data = {\"Tid\": [1,2, 3, 4, 5, 6, 7, 8, 9, 10],\n",
        "         \"Refund\": ['yes', 'no', 'no', 'yes', 'no' , 'no', 'yes', 'no', 'no', 'no'],\n",
        "        \"Marital Status\": ['Single', 'Married', 'Single', 'Married', 'Divorced', 'Married', 'Divorced', 'Single', 'Married', 'Single'],\n",
        "        \"Taxable Income\": ['125K', '100K', '70K', '120K', '95K', '60K', '220K', '85K', '75K', '90K'],\n",
        "        \"Cheat\": ['No', 'No', 'No', 'No', 'Yes', 'No', 'No', 'Yes', 'No', 'Yes']}\n",
        "\n",
        "mydata = pd.DataFrame(data)\n",
        "print(mydata)\n",
        "#Question 2\n",
        "\n",
        "print(mydata.loc[0])\n",
        "print(mydata.loc[4])\n",
        "print(mydata.loc[7])\n",
        "print(mydata.loc[8])\n",
        "#question 3\n",
        "#read the csv in google colab and display it\n"
      ]
    }
  ]
}